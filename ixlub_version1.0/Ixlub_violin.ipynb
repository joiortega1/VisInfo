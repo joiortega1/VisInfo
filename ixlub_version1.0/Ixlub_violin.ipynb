{
 "cells": [
  {
   "cell_type": "markdown",
   "metadata": {},
   "source": [
    "# Ixlub Version 1.0\n",
    "### Violin Plot\n",
    "- Ortega Ibarra Jaime Jesus."
   ]
  },
  {
   "cell_type": "code",
   "execution_count": 13,
   "metadata": {},
   "outputs": [],
   "source": [
    "import matplotlib.pyplot as plt\n",
    "class Violin():\n",
    "    \"\"\"\n",
    "    @Author: Jaime Jesus Ortega Ibarra.\n",
    "    Class Violin: Clase que muestra las gráficas de Violin de manera simple para el usuario.\n",
    "    Parameters: Recibe dos valores enteros, los cuales indican cuantos subplots tendrémos.\n",
    "    \n",
    "    Un diagrama de violín se utiliza para visualizar la distribución de los datos y su densidad de probabilidad.\n",
    "    Este gráfico es una combinación de un diagrama de caja y un diagrama de densidad que se gira y coloca a cada\n",
    "    lado, para mostrar la forma de distribución de los datos.\"\"\"\n",
    "    def __init__(self,nrows=1, ncols=1):\n",
    "        \"\"\"Inicializa\"\"\"\n",
    "        self.cols = ncols\n",
    "        self.rows = nrows\n",
    "        self.fig = plt.figure\n",
    "    def subplots(self, labelx, labely,  pad=0):\n",
    "        \"\"\"Violin.subplots: Se encarga de realizar la figura con la cantidad de subplots requeridos,\n",
    "        así como colocar los nombres de las etiquetas.\n",
    "        Parameters: Tupla labelx para varios subplots, tupla labely para varios subplots así como la separación\n",
    "        entre cada uno de ellos, en el caso de 1 sólo plot, solo se recibe String del nombre de la etiqueta.\"\"\"\n",
    "        fig, self.axes = plt.subplots(self.rows, self.cols)\n",
    "        plt.tight_layout(pad)\n",
    "        if self.rows == 1 and self.cols ==1:\n",
    "            plt.xlabel(labelx)\n",
    "            plt.ylabel(labely)\n",
    "        else:\n",
    "            if self.rows>=2 and self.cols>=2:\n",
    "                aux=0\n",
    "                for i in range(self.rows):\n",
    "                    for j in range(self.cols):\n",
    "                        self.axes[i,j].set_xlabel(labelx[aux])\n",
    "                        self.axes[i,j].set_ylabel(labely[aux])\n",
    "                        aux+=1\n",
    "            else:\n",
    "                if self.rows>self.cols:\n",
    "                    for i in range(self.rows):\n",
    "                        self.axes[i].set_xlabel(labelx[i])\n",
    "                        self.axes[i].set_ylabel(labely[i])\n",
    "                else:\n",
    "                    for i in range(self.cols):\n",
    "                        self.axes[i].set_xlabel(labelx[i])\n",
    "                        self.axes[i].set_ylabel(labely[i])\n",
    "                        \n",
    "    def title(self, title):\n",
    "        \"\"\"Violin.title: Coloca el título a cada una de las gráficas.\n",
    "        Parameters: Tupla de títulos para 2 o más subplots, String con título para 1 solo plot.\"\"\"\n",
    "        aux=0\n",
    "        if self.rows == 1 and self.cols ==1:\n",
    "            plt.title(title)\n",
    "        else:\n",
    "            if self.rows>=2 and self.cols>=2:\n",
    "                for i in range(self.rows):\n",
    "                    for j in range(self.cols):\n",
    "                        self.axes[i,j].set_title(title[aux])\n",
    "                        aux+=1\n",
    "            else:\n",
    "                if self.rows>self.cols:\n",
    "                    for i in range(self.rows):\n",
    "                        self.axes[i].set_title(title[i])\n",
    "                else:\n",
    "                    for i in range(self.cols):\n",
    "                        self.axes[i].set_title(title[i])\n",
    "    def plot(self, datos):\n",
    "        \"\"\"Violin.plot: Recibe los datos a plotear.\n",
    "        Parameters: Matriz de datos, ya que Violin Plot funciona mediante matrices.\"\"\"\n",
    "        if self.rows == 1 and self.cols ==1:\n",
    "            plt.violinplot(datos)\n",
    "        else:\n",
    "            if self.rows>=2 and self.cols>=2:\n",
    "                for i in range(self.rows):\n",
    "                    for j in range(self.cols):\n",
    "                        self.axes[i,j].violinplot(datos)\n",
    "            else:\n",
    "                if self.rows>self.cols:\n",
    "                    for i in range(self.rows):\n",
    "                        self.axes[i].violinplot(datos)\n",
    "                else:\n",
    "                    for i in range(self.cols):\n",
    "                        self.axes[i].violinplot(datos)\n",
    "    def grid(self,b):\n",
    "        \"\"\"Violin.grid: Coloca rejilla dentro de las gráficas\n",
    "        Parameters: Recibe un único valor booleano; \n",
    "        True en caso de colocar grid o \n",
    "        False en caso de omitir grid.\"\"\"\n",
    "        if self.rows == 1 and self.cols ==1:\n",
    "            plt.grid(b)\n",
    "        else:\n",
    "            if self.rows>=2 and self.cols>=2:\n",
    "                for i in range(self.rows):\n",
    "                    for j in range(self.cols):\n",
    "                        self.axes[i,j].grid(b)\n",
    "            else:\n",
    "                if self.rows>self.cols:\n",
    "                    for i in range(self.rows):\n",
    "                        self.axes[i].grid(b)\n",
    "                else:\n",
    "                    for i in range(self.cols):\n",
    "                        self.axes[i].gris(b)"
   ]
  },
  {
   "cell_type": "markdown",
   "metadata": {},
   "source": [
    "## Probando Clase"
   ]
  },
  {
   "cell_type": "code",
   "execution_count": 14,
   "metadata": {},
   "outputs": [
    {
     "data": {
      "image/png": "[encoded data removed]",
      "text/plain": [
       "<Figure size 432x288 with 1 Axes>"
      ]
     },
     "metadata": {
      "needs_background": "light"
     },
     "output_type": "display_data"
    }
   ],
   "source": [
    "import numpy as np\n",
    "collectn_1 = np.random.normal(100, 10, 200)\n",
    "collectn_2 = np.random.normal(80, 30, 200)\n",
    "collectn_3 = np.random.normal(90, 20, 200)\n",
    "collectn_4 = np.random.normal(70, 25, 200)\n",
    "data_to_plot = [collectn_1, collectn_2, collectn_3, collectn_4]\n",
    "data_to_plot2 = [collectn_2, collectn_2, collectn_3, collectn_1]\n",
    "#title = ['Titulo1', 'Titulo2', 'Titulo3', 'Titulo4']\n",
    "#Ejey = ['Eje_y1', 'Eje_y2', 'Eje_y3', 'Eje_y4']\n",
    "#Ejex = ['Eje_x1', 'Eje_x2', 'Eje_x3', 'Eje_x4']\n",
    "V = Violin(1,1)\n",
    "V.subplots('Colecciones', 'Valores', 3)\n",
    "V.title('Prueba Violin')\n",
    "V.plot(data_to_plot)\n",
    "V.grid(True)"
   ]
  }
 ],
 "metadata": {
  "kernelspec": {
   "display_name": "Python 3",
   "language": "python",
   "name": "python3"
  },
  "language_info": {
   "codemirror_mode": {
    "name": "ipython",
    "version": 3
   },
   "file_extension": ".py",
   "mimetype": "text/x-python",
   "name": "python",
   "nbconvert_exporter": "python",
   "pygments_lexer": "ipython3",
   "version": "3.7.3"
  }
 },
 "nbformat": 4,
 "nbformat_minor": 2
}
